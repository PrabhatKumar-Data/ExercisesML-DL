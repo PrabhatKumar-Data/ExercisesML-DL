{
  "nbformat": 4,
  "nbformat_minor": 0,
  "metadata": {
    "colab": {
      "name": "Assignment1.ipynb",
      "provenance": []
    },
    "kernelspec": {
      "name": "python3",
      "display_name": "Python 3"
    }
  },
  "cells": [
    {
      "cell_type": "markdown",
      "metadata": {
        "id": "Jh6kyzZl8q7z",
        "colab_type": "text"
      },
      "source": [
        "### Assignment 1"
      ]
    },
    {
      "cell_type": "markdown",
      "metadata": {
        "id": "MJs4VKUP9qSx",
        "colab_type": "text"
      },
      "source": [
        "Q1. Write a program which will find all such numbers which are divisible by 7 but are not a multiple of 5, between 2000 and 3200 (both included). The numbers obtained should be printed\n",
        "in a comma-separated sequence on a single line."
      ]
    },
    {
      "cell_type": "code",
      "metadata": {
        "id": "MeYiN_6l8nrD",
        "colab_type": "code",
        "colab": {
          "base_uri": "https://localhost:8080/",
          "height": 54
        },
        "outputId": "3a09b0c6-0ec1-40a7-8498-a31b0752924b"
      },
      "source": [
        "b=[] #Intializing empty List\n",
        "for x in range(2000,3201): \n",
        "  if (x%7==0) and (x%5 != 0): #checking condition numbers which are divisble by 7 but not multiple of 5\n",
        "    b.append(x) # To get obtained values in a list\n",
        "print (b) "
      ],
      "execution_count": 35,
      "outputs": [
        {
          "output_type": "stream",
          "text": [
            "[2002, 2009, 2016, 2023, 2037, 2044, 2051, 2058, 2072, 2079, 2086, 2093, 2107, 2114, 2121, 2128, 2142, 2149, 2156, 2163, 2177, 2184, 2191, 2198, 2212, 2219, 2226, 2233, 2247, 2254, 2261, 2268, 2282, 2289, 2296, 2303, 2317, 2324, 2331, 2338, 2352, 2359, 2366, 2373, 2387, 2394, 2401, 2408, 2422, 2429, 2436, 2443, 2457, 2464, 2471, 2478, 2492, 2499, 2506, 2513, 2527, 2534, 2541, 2548, 2562, 2569, 2576, 2583, 2597, 2604, 2611, 2618, 2632, 2639, 2646, 2653, 2667, 2674, 2681, 2688, 2702, 2709, 2716, 2723, 2737, 2744, 2751, 2758, 2772, 2779, 2786, 2793, 2807, 2814, 2821, 2828, 2842, 2849, 2856, 2863, 2877, 2884, 2891, 2898, 2912, 2919, 2926, 2933, 2947, 2954, 2961, 2968, 2982, 2989, 2996, 3003, 3017, 3024, 3031, 3038, 3052, 3059, 3066, 3073, 3087, 3094, 3101, 3108, 3122, 3129, 3136, 3143, 3157, 3164, 3171, 3178, 3192, 3199]\n"
          ],
          "name": "stdout"
        }
      ]
    },
    {
      "cell_type": "markdown",
      "metadata": {
        "id": "Cpvb7AmiK6xf",
        "colab_type": "text"
      },
      "source": [
        "Q2. Write a Python program to accept the user's first and last name and then getting them printed in the the reverse order with a space between first name and last name."
      ]
    },
    {
      "cell_type": "code",
      "metadata": {
        "id": "6p-L-lkm_HSy",
        "colab_type": "code",
        "colab": {
          "base_uri": "https://localhost:8080/",
          "height": 70
        },
        "outputId": "1a418569-b27b-43e8-d5d8-3ca4688f5231"
      },
      "source": [
        "# Initializing Input for getting First and last name\n",
        "firstname=input(\"Enter your first name : \")\n",
        "lastname=input(\"Enter your last name : \")\n",
        "\n",
        "print (firstname[::-1],\" \",lastname[::-1])"
      ],
      "execution_count": 36,
      "outputs": [
        {
          "output_type": "stream",
          "text": [
            "Enter your first name : Prabhat\n",
            "Enter your last name : kumar\n",
            "tahbarP   ramuk\n"
          ],
          "name": "stdout"
        }
      ]
    },
    {
      "cell_type": "markdown",
      "metadata": {
        "id": "FoaFwI1wN1B8",
        "colab_type": "text"
      },
      "source": [
        "Q3. Write a Python program to find the volume of a sphere with diameter 12 cm.\n",
        "Formula: V=4/3 * π * r 3"
      ]
    },
    {
      "cell_type": "code",
      "metadata": {
        "id": "cvaJo1cdFWpX",
        "colab_type": "code",
        "colab": {
          "base_uri": "https://localhost:8080/",
          "height": 34
        },
        "outputId": "7758db6d-9830-4b9c-c3c3-ded9d2fd48b7"
      },
      "source": [
        "import numpy as np\n",
        "d= 12 # Diameter\n",
        "\n",
        "r=d/2 # Radius\n",
        "volume=(4/3*np.pi*r*r*r) # Formula of a sphere\n",
        "round(volume,2)"
      ],
      "execution_count": 34,
      "outputs": [
        {
          "output_type": "execute_result",
          "data": {
            "text/plain": [
              "904.78"
            ]
          },
          "metadata": {
            "tags": []
          },
          "execution_count": 34
        }
      ]
    }
  ]
}