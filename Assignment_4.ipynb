{
  "nbformat": 4,
  "nbformat_minor": 0,
  "metadata": {
    "colab": {
      "name": "Assignment 4.ipynb",
      "provenance": [],
      "authorship_tag": "ABX9TyMO+u27UrO4SVBhU/3f4zCA",
      "include_colab_link": true
    },
    "kernelspec": {
      "name": "python3",
      "display_name": "Python 3"
    }
  },
  "cells": [
    {
      "cell_type": "markdown",
      "metadata": {
        "id": "view-in-github",
        "colab_type": "text"
      },
      "source": [
        "<a href=\"https://colab.research.google.com/github/PrabhatKumar-Data/ExercisesML-DL/blob/master/Assignment_4.ipynb\" target=\"_parent\"><img src=\"https://colab.research.google.com/assets/colab-badge.svg\" alt=\"Open In Colab\"/></a>"
      ]
    },
    {
      "cell_type": "markdown",
      "metadata": {
        "id": "h0TKJ1WnEjfR",
        "colab_type": "text"
      },
      "source": [
        "# Assignment 4"
      ]
    },
    {
      "cell_type": "markdown",
      "metadata": {
        "id": "8d9CGyGxE5lg",
        "colab_type": "text"
      },
      "source": [
        "Q1.1 Write a Python Program(with class concepts) to find the area of the triangle using the below\n",
        "formula.\n",
        "\n",
        "area = (s*(s-a)*(s-b)*(s-c)) *** 0.5\n",
        "\n",
        "Function to take the length of the sides of triangle from user should be defined in the parent\n",
        "class and function to calculate the area should be defined in subclass.\n",
        "\n",
        "---\n",
        "\n"
      ]
    },
    {
      "cell_type": "code",
      "metadata": {
        "id": "HFNc5EjXE3vx",
        "colab_type": "code",
        "colab": {
          "base_uri": "https://localhost:8080/",
          "height": 87
        },
        "outputId": "0f557674-3f9d-4fd7-d4e1-f24b6cd539af"
      },
      "source": [
        "class sides: #For getting number inputs for each side\n",
        "    def __init__(self,a,b,c):\n",
        "        self.a = float(a)\n",
        "        self.b = float(b)\n",
        "        self.c = float(c)\n",
        "a= int(input(\"Enter a number for side 'a'=\"))\n",
        "b= int(input(\"Enter a number for side 'b'=\"))\n",
        "c= int(input(\"Enter a number for side 'c'=\"))\n",
        "\n",
        "class triangle(sides): #Taking values from parents class\n",
        "    def __init__(self,a,b,c):\n",
        "        super().__init__(a,b,c)\n",
        "\n",
        "    def get_area(self): #For getting the area of the triangle\n",
        "        s = (a + b + c) / 2\n",
        "        return (s*(s-a)*(s-b)*(s-c)) ** 0.5        \n",
        "\n",
        "t = triangle(a,b,c)\n",
        "print(\"Area of the triangle is : {}\".format(t.get_area()))"
      ],
      "execution_count": 44,
      "outputs": [
        {
          "output_type": "stream",
          "text": [
            "Enter a number for side 'a'=3\n",
            "Enter a number for side 'b'=4\n",
            "Enter a number for side 'c'=5\n",
            "Area of the triangle is : 6.0\n"
          ],
          "name": "stdout"
        }
      ]
    },
    {
      "cell_type": "markdown",
      "metadata": {
        "id": "Z9XJCir8F0O0",
        "colab_type": "text"
      },
      "source": [
        "Q1.2 Write a function filter_long_words() that takes a list of words and an integer n and returns\n",
        "the list of words that are longer than n."
      ]
    },
    {
      "cell_type": "code",
      "metadata": {
        "id": "oKJ8jKCzFAx0",
        "colab_type": "code",
        "colab": {
          "base_uri": "https://localhost:8080/",
          "height": 70
        },
        "outputId": "2e8bd80b-7c5d-4d59-f5f6-ebe73b0c76df"
      },
      "source": [
        "def filter_long_words(wordlist, length): # Creating function filter_long_words\n",
        "    return (word for word in wordlist if len(word) >= length)\n",
        "\n",
        "def main():\n",
        "    words = input(\"Enter words, separated by spaces: \").split()\n",
        "    length = int(input(\"Minimum number of alphabets of word to keep: \"))\n",
        "    print(\"Words which are longer than and equal to {} alphabets : {}.\".format(length,\n",
        "          ', '.join(filter_long_words(words, length))))\n",
        "\n",
        "main()"
      ],
      "execution_count": 46,
      "outputs": [
        {
          "output_type": "stream",
          "text": [
            "Enter words, separated by spaces: I am passionate about data science and you?\n",
            "Minimum number of alphabets of word to keep: 3\n",
            "Words which are longer than and equal to 3 alphabets : passionate, about, data, science, and, you?.\n"
          ],
          "name": "stdout"
        }
      ]
    },
    {
      "cell_type": "markdown",
      "metadata": {
        "id": "XdXW1310dKxq",
        "colab_type": "text"
      },
      "source": [
        "Q2.1 Write a Python program using function concept that maps list of words into a list of integers\n",
        "representing the lengths of the corresponding words.\n",
        "Hint: If a list [ ab,cde,erty] is passed on to the python function output should come as [2,3,4]\n",
        "Here 2,3 and 4 are the lengths of the words in the list."
      ]
    },
    {
      "cell_type": "code",
      "metadata": {
        "id": "ZlX9QjkIZ2CV",
        "colab_type": "code",
        "colab": {}
      },
      "source": [
        "def func1():\n",
        "  text=input(\"Enter words seprated by space : \").split()\n",
        "  print (text,'\\n')\n",
        "  return [len(x) for x in text]"
      ],
      "execution_count": 47,
      "outputs": []
    },
    {
      "cell_type": "code",
      "metadata": {
        "id": "XTLQLsBcJmyM",
        "colab_type": "code",
        "colab": {
          "base_uri": "https://localhost:8080/",
          "height": 87
        },
        "outputId": "e0770fc8-4d2e-40f5-fbd6-7fb363c5c308"
      },
      "source": [
        "func1()"
      ],
      "execution_count": 48,
      "outputs": [
        {
          "output_type": "stream",
          "text": [
            "Enter words seprated by space : This is the best class and thank you\n",
            "['This', 'is', 'the', 'best', 'class', 'and', 'thank', 'you'] \n",
            "\n"
          ],
          "name": "stdout"
        },
        {
          "output_type": "execute_result",
          "data": {
            "text/plain": [
              "[4, 2, 3, 4, 5, 3, 5, 3]"
            ]
          },
          "metadata": {
            "tags": []
          },
          "execution_count": 48
        }
      ]
    },
    {
      "cell_type": "markdown",
      "metadata": {
        "id": "iAiUMEgdjuj8",
        "colab_type": "text"
      },
      "source": [
        "Q2.2 Write a Python function which takes a character (i.e. a string of length 1) and returns True if\n",
        "it is a vowel, False otherwise."
      ]
    },
    {
      "cell_type": "code",
      "metadata": {
        "id": "cfRJZ5UoJn6c",
        "colab_type": "code",
        "colab": {
          "base_uri": "https://localhost:8080/",
          "height": 70
        },
        "outputId": "c55fc22d-0542-46af-f717-16fa543764d7"
      },
      "source": [
        "def find_vowels():\n",
        "  y=['a','e','i','o','u']\n",
        "  x=input('Enter an alphabet : ').lower()\n",
        "  if x in y:\n",
        "    print ('This is a vowel')\n",
        "    return True\n",
        "  else:\n",
        "    print ('Sorry, this is not a vowel')\n",
        "    return False\n",
        "find_vowels()"
      ],
      "execution_count": 49,
      "outputs": [
        {
          "output_type": "stream",
          "text": [
            "Enter an alphabet : A\n",
            "This is a vowel\n"
          ],
          "name": "stdout"
        },
        {
          "output_type": "execute_result",
          "data": {
            "text/plain": [
              "True"
            ]
          },
          "metadata": {
            "tags": []
          },
          "execution_count": 49
        }
      ]
    }
  ]
}