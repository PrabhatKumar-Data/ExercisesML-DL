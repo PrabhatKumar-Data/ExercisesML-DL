{
  "nbformat": 4,
  "nbformat_minor": 0,
  "metadata": {
    "colab": {
      "name": "Numpy Assignment.ipynb",
      "provenance": [],
      "authorship_tag": "ABX9TyNFo7kPsbur7R8adugASx6n",
      "include_colab_link": true
    },
    "kernelspec": {
      "name": "python3",
      "display_name": "Python 3"
    }
  },
  "cells": [
    {
      "cell_type": "markdown",
      "metadata": {
        "id": "view-in-github",
        "colab_type": "text"
      },
      "source": [
        "<a href=\"https://colab.research.google.com/github/PrabhatKumar-Data/ExercisesML-DL/blob/master/Numpy_Assignment.ipynb\" target=\"_parent\"><img src=\"https://colab.research.google.com/assets/colab-badge.svg\" alt=\"Open In Colab\"/></a>"
      ]
    },
    {
      "cell_type": "markdown",
      "metadata": {
        "id": "WTfIJVYiqPXO",
        "colab_type": "text"
      },
      "source": [
        "# Numpy Assignment"
      ]
    },
    {
      "cell_type": "markdown",
      "metadata": {
        "id": "MK7jtoutqaE5",
        "colab_type": "text"
      },
      "source": [
        "Q1. Write a function so that the columns of the output matrix are powers of the input\n",
        "vector.\n",
        "\n",
        "The order of the powers is determined by the increasing boolean argument. Specifically, when\n",
        "increasing is False, the i-th output column is the input vector raised element-wise to the power\n",
        "of N - i - 1.\n",
        "\n",
        "HINT: Such a matrix with a geometric progression in each row is named for Alexandre-\n",
        "Theophile Vandermonde."
      ]
    },
    {
      "cell_type": "code",
      "metadata": {
        "id": "YluTvLI0W65q",
        "colab_type": "code",
        "colab": {}
      },
      "source": [
        "import pandas as pd\n",
        "import numpy as np"
      ],
      "execution_count": 1,
      "outputs": []
    },
    {
      "cell_type": "code",
      "metadata": {
        "id": "Q5wHIaBTqO5y",
        "colab_type": "code",
        "colab": {
          "base_uri": "https://localhost:8080/",
          "height": 105
        },
        "outputId": "ce7bd7dd-264b-4388-9d9d-a19e9c5dccad"
      },
      "source": [
        "x=np.array([1,2,3,4,5])\n",
        "np.vander(x, increasing=True)"
      ],
      "execution_count": 2,
      "outputs": [
        {
          "output_type": "execute_result",
          "data": {
            "text/plain": [
              "array([[  1,   1,   1,   1,   1],\n",
              "       [  1,   2,   4,   8,  16],\n",
              "       [  1,   3,   9,  27,  81],\n",
              "       [  1,   4,  16,  64, 256],\n",
              "       [  1,   5,  25, 125, 625]])"
            ]
          },
          "metadata": {
            "tags": []
          },
          "execution_count": 2
        }
      ]
    },
    {
      "cell_type": "markdown",
      "metadata": {
        "id": "kTgbcn6_rxXL",
        "colab_type": "text"
      },
      "source": [
        "###Problem Statement 2:\n",
        "\n",
        "Given a sequence of n values x1, x2, ..., xn and a window size k>0, the k-th moving average of the given sequence is defined as follows:\n",
        "\n",
        "The moving average sequence has n-k+1 elements as shown below.\n",
        "The moving averages with k=4 of a ten-value sequence (n=10) is shown below\n",
        "\n",
        "i 1 2 3 4 5 6 7 8 9 10\n",
        "===== == == == == == == == == == ==\n",
        "Input 10 20 30 40 50 60 70 80 90 100\n",
        "\n",
        "y1 25 = (10+20+30+40)/4\n",
        "\n",
        "y2 35 = (20+30+40+50)/4\n",
        "\n",
        "y3 45 = (30+40+50+60)/4\n",
        "\n",
        "y4 55 = (40+50+60+70)/4\n",
        "\n",
        "y5 65 = (50+60+70+80)/4\n",
        "\n",
        "y6 75 = (60+70+80+90)/4\n",
        "\n",
        "y7 85 = (70+80+90+100)/4\n",
        "\n",
        "Thus, the moving average sequence has n-k+1=10-4+1=7 values."
      ]
    },
    {
      "cell_type": "markdown",
      "metadata": {
        "id": "bO5bhBuuszhT",
        "colab_type": "text"
      },
      "source": [
        "Q2. Question: Write a function to find moving average in an array over a window:\n",
        "Test it over [3, 5, 7, 2, 8, 10, 11, 65, 72, 81, 99, 100, 150] and window of 3."
      ]
    },
    {
      "cell_type": "code",
      "metadata": {
        "id": "c0eOeDbgrBIS",
        "colab_type": "code",
        "colab": {
          "base_uri": "https://localhost:8080/",
          "height": 52
        },
        "outputId": "8ca922aa-8789-4b99-eb72-5fba4c25510c"
      },
      "source": [
        "dataset = [3, 5, 7, 2, 8, 10, 11, 65, 72, 81, 99, 100, 150]\n",
        "# window =3\n",
        "def move_avrage(values,window):\n",
        "    val = np.repeat(1.0,window)/window\n",
        "    con = np.convolve(values,val,'valid')\n",
        "    return con\n",
        "\n",
        "\n",
        "move_avrage(dataset,3).round(2)"
      ],
      "execution_count": 5,
      "outputs": [
        {
          "output_type": "execute_result",
          "data": {
            "text/plain": [
              "array([  5.  ,   4.67,   5.67,   6.67,   9.67,  28.67,  49.33,  72.67,\n",
              "        84.  ,  93.33, 116.33])"
            ]
          },
          "metadata": {
            "tags": []
          },
          "execution_count": 5
        }
      ]
    },
    {
      "cell_type": "code",
      "metadata": {
        "id": "Kx5BOvR4wB7R",
        "colab_type": "code",
        "colab": {}
      },
      "source": [
        ""
      ],
      "execution_count": null,
      "outputs": []
    }
  ]
}